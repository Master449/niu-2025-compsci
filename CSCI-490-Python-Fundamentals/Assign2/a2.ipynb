{
 "cells": [
  {
   "cell_type": "markdown",
   "id": "0321a507-c6dc-4054-8ad6-37b8fb286ebe",
   "metadata": {},
   "source": [
    "# 0.Name & Z-ID\n",
    "\n",
    "David Flowers II \\\n",
    "Z1942130 \\\n",
    "Assignment 2 \\\n",
    "Koop FA24"
   ]
  },
  {
   "cell_type": "markdown",
   "id": "620f9483-2510-49be-97f3-fe66a7a745e6",
   "metadata": {},
   "source": [
    "# 1. The 3n + 1 Function"
   ]
  },
  {
   "cell_type": "code",
   "execution_count": 1,
   "id": "9632f129-ccfc-409e-9bc5-8fd46e54fce7",
   "metadata": {},
   "outputs": [
    {
     "name": "stdout",
     "output_type": "stream",
     "text": [
      "1\n",
      "2 v 1\n",
      "3 ^ 10 v 5 ^ 16 v 8 v 4 v 2 v 1\n",
      "4 v 2 v 1\n",
      "5 ^ 16 v 8 v 4 v 2 v 1\n",
      "6 v 3 ^ 10 v 5 ^ 16 v 8 v 4 v 2 v 1\n",
      "7 ^ 22 v 11 ^ 34 v 17 ^ 52 v 26 v 13 ^ 40 v 20 v 10 v 5 ^ 16 v 8 v 4 v 2 v 1\n",
      "8 v 4 v 2 v 1\n",
      "9 ^ 28 v 14 v 7 ^ 22 v 11 ^ 34 v 17 ^ 52 v 26 v 13 ^ 40 v 20 v 10 v 5 ^ 16 v 8 v 4 v 2 v 1\n",
      "10 v 5 ^ 16 v 8 v 4 v 2 v 1\n",
      "11 ^ 34 v 17 ^ 52 v 26 v 13 ^ 40 v 20 v 10 v 5 ^ 16 v 8 v 4 v 2 v 1\n",
      "12 v 6 v 3 ^ 10 v 5 ^ 16 v 8 v 4 v 2 v 1\n",
      "13 ^ 40 v 20 v 10 v 5 ^ 16 v 8 v 4 v 2 v 1\n",
      "14 v 7 ^ 22 v 11 ^ 34 v 17 ^ 52 v 26 v 13 ^ 40 v 20 v 10 v 5 ^ 16 v 8 v 4 v 2 v 1\n",
      "15 ^ 46 v 23 ^ 70 v 35 ^ 106 v 53 ^ 160 v 80 v 40 v 20 v 10 v 5 ^ 16 v 8 v 4 v 2 v 1\n",
      "16 v 8 v 4 v 2 v 1\n",
      "17 ^ 52 v 26 v 13 ^ 40 v 20 v 10 v 5 ^ 16 v 8 v 4 v 2 v 1\n",
      "18 v 9 ^ 28 v 14 v 7 ^ 22 v 11 ^ 34 v 17 ^ 52 v 26 v 13 ^ 40 v 20 v 10 v 5 ^ 16 v 8 v 4 v 2 v 1\n",
      "19 ^ 58 v 29 ^ 88 v 44 v 22 v 11 ^ 34 v 17 ^ 52 v 26 v 13 ^ 40 v 20 v 10 v 5 ^ 16 v 8 v 4 v 2 v 1\n"
     ]
    }
   ],
   "source": [
    "def orbit(n):\n",
    "    string = \"\"\n",
    "    string += str(n)\n",
    "    \n",
    "    while n != 1:\n",
    "        tmp = n\n",
    "        if n % 2 == 0:\n",
    "            n = n // 2\n",
    "        else:\n",
    "            n = ((3 * n) + 1)\n",
    "\n",
    "        if tmp < n:\n",
    "            string += \" ^ \"\n",
    "        else:\n",
    "            string += \" v \"\n",
    "            \n",
    "        string += str(n)\n",
    "    return string\n",
    "\n",
    "for index in range(1, 20):\n",
    "    print(orbit(index))"
   ]
  },
  {
   "cell_type": "markdown",
   "id": "2cbe52e3-0d12-448d-82d5-3ae14ae8418d",
   "metadata": {},
   "source": [
    "# 2. Up and Down Steps"
   ]
  },
  {
   "cell_type": "code",
   "execution_count": 2,
   "id": "c4d6b871-ffa2-4d77-95f4-543ea250f1c8",
   "metadata": {},
   "outputs": [
    {
     "name": "stdout",
     "output_type": "stream",
     "text": [
      "1: 0 0\n",
      "2: 0 1\n",
      "3: 2 5\n",
      "4: 0 2\n",
      "5: 1 4\n",
      "6: 2 6\n",
      "7: 5 11\n",
      "8: 0 3\n",
      "9: 6 13\n",
      "10: 1 5\n",
      "11: 4 10\n",
      "12: 2 7\n",
      "13: 2 7\n",
      "14: 5 12\n",
      "15: 5 12\n",
      "16: 0 4\n",
      "17: 3 9\n",
      "18: 6 14\n",
      "19: 6 14\n"
     ]
    }
   ],
   "source": [
    "def steps(n):\n",
    "    parse_line = orbit(n).strip(' ')\n",
    "    new_parse_line = ''.join([i for i in parse_line if not i.isdigit()])\n",
    "    \n",
    "    ups = new_parse_line.count('^')\n",
    "    downs = new_parse_line.count('v')\n",
    "\n",
    "    return ups, downs\n",
    "\n",
    "for index in range(1, 20):\n",
    "    up, down = steps(index)\n",
    "    print(f\"{index}: {up} {down}\")"
   ]
  },
  {
   "cell_type": "markdown",
   "id": "df536037-a0d1-436c-98bb-74887d03c789",
   "metadata": {},
   "source": [
    "# 3. Longest Progression"
   ]
  },
  {
   "cell_type": "code",
   "execution_count": 3,
   "id": "4fc63f33-2391-4307-8a65-fa85ef356a5e",
   "metadata": {},
   "outputs": [
    {
     "name": "stdout",
     "output_type": "stream",
     "text": [
      "15: 20 9\n",
      "30: 112 27\n",
      "45: 112 27\n",
      "60: 113 54\n",
      "75: 116 73\n",
      "90: 116 73\n",
      "105: 119 97\n"
     ]
    }
   ],
   "source": [
    "def longest_progression(m):\n",
    "    max_progression = 1\n",
    "    number_with_max = 0\n",
    "    \n",
    "    for index in range(1, m + 1):\n",
    "        # spaghetti time\n",
    "        if (max := len(orbit(index).replace('^', '').replace('v', '').split())) > max_progression:\n",
    "            max_progression = max\n",
    "            number_with_max = index\n",
    "            \n",
    "    return max_progression, number_with_max\n",
    "\n",
    "for index in range(15, 106, 15):\n",
    "    max,number = longest_progression(index)\n",
    "    print(f\"{index}: {max} {number}\")"
   ]
  }
 ],
 "metadata": {
  "kernelspec": {
   "display_name": "Python (default)",
   "language": "python",
   "name": "python3"
  },
  "language_info": {
   "codemirror_mode": {
    "name": "ipython",
    "version": 3
   },
   "file_extension": ".py",
   "mimetype": "text/x-python",
   "name": "python",
   "nbconvert_exporter": "python",
   "pygments_lexer": "ipython3",
   "version": "3.12.1"
  }
 },
 "nbformat": 4,
 "nbformat_minor": 5
}
