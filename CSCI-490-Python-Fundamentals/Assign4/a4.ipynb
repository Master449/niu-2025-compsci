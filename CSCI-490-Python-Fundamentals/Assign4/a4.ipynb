{
 "cells": [
  {
   "cell_type": "markdown",
   "metadata": {},
   "source": [
    "# 0. Name & Z-ID\n",
    "\n",
    "David Flowers II \\\n",
    "Z1942130 \\\n",
    "Assignment 4 \\\n",
    "Koop FA2024"
   ]
  },
  {
   "cell_type": "markdown",
   "metadata": {},
   "source": [
    "# 1. Read Data (10 pts)"
   ]
  },
  {
   "cell_type": "code",
   "execution_count": 6,
   "metadata": {},
   "outputs": [],
   "source": [
    "import os\n",
    "from urllib.request import urlretrieve\n",
    "\n",
    "def download_text(url):\n",
    "    local_fname = os.path.basename(url)\n",
    "    if not os.path.exists(local_fname):\n",
    "        urlretrieve(url, local_fname)\n",
    "    return local_fname"
   ]
  },
  {
   "cell_type": "code",
   "execution_count": 7,
   "metadata": {},
   "outputs": [],
   "source": [
    "fname = download_text('https://www.gutenberg.org/files/2650/2650-0.txt')\n",
    "#fname = download_text('https://www.gutenberg.org/files/1342/1342-0.txt')\n",
    "#fname = download_text('https://www.gutenberg.org/files/161/161-0.txt')\n",
    "\n",
    "# Read entire file in as string\n",
    "with open(fname, 'r') as file:\n",
    "    contents = file.read()\n",
    "\n",
    "# For pulling the title from the text\n",
    "title = \"\"\n",
    "\n",
    "title_copy = contents[:5000]\n",
    "title_copy = title_copy.splitlines()\n",
    "\n",
    "for line in title_copy:\n",
    "    if 'START OF THE PROJECT GUTENBERG EBOOK' in line:\n",
    "        title = line.split(\"GUTENBERG EBOOK\", 1)[1].strip()\n",
    "\n",
    "if title is None or title == \"\":\n",
    "    title = \"THE EBOOK\"\n",
    "\n",
    "# Find index of where the ebook starts and ends\n",
    "start = contents.find('START OF THE PROJECT GUTENBERG EBOOK')\n",
    "end = contents.find('END OF THE PROJECT GUTENBERG EBOOK')\n",
    "\n",
    "# New contents are from start index to end, split by lines, minus first and last\n",
    "contents = contents[start:end].splitlines()[1:-1]"
   ]
  },
  {
   "cell_type": "markdown",
   "metadata": {},
   "source": [
    "# 2. Count Vowels and Consonants (15 pts)"
   ]
  },
  {
   "cell_type": "code",
   "execution_count": 8,
   "metadata": {},
   "outputs": [],
   "source": [
    "def count_letters(list):\n",
    "    # Start counts at 0\n",
    "    vowel_count = 0\n",
    "    consonant_count = 0\n",
    "\n",
    "    # loop through list\n",
    "    for line in list:\n",
    "        # Loop through string\n",
    "        for char in line:\n",
    "            # if it matches any of these, add to vowel count\n",
    "            if char.lower() in \"aeiouyàâæèéêëîïôùûüÿœAEIOU\":\n",
    "                vowel_count += 1\n",
    "            #otherwise, check if its an actual alphabet char\n",
    "            else:\n",
    "                if char.isalpha():\n",
    "                    consonant_count += 1\n",
    "    # return both counts\n",
    "    return vowel_count, consonant_count"
   ]
  },
  {
   "cell_type": "markdown",
   "metadata": {},
   "source": [
    "# 3. Convert Diacritics and Digraphs (15 pts)"
   ]
  },
  {
   "cell_type": "code",
   "execution_count": 9,
   "metadata": {},
   "outputs": [],
   "source": [
    "# Lowercase conversion table\n",
    "lowercase = {\n",
    "    \"à\": \"a\",\n",
    "    \"â\": \"a\",\n",
    "    \"é\": \"e\",\n",
    "    \"ê\": \"e\",\n",
    "    \"ë\": \"e\",\n",
    "    \"î\": \"i\",\n",
    "    \"ï\": \"i\",\n",
    "    \"ô\": \"o\",\n",
    "    \"ù\": \"u\",\n",
    "    \"û\": \"u\",\n",
    "    \"ü\": \"u\",\n",
    "    \"ÿ\": \"y\",\n",
    "    \"æ\": \"ae\",\n",
    "    \"œ\": \"oe\"\n",
    "}\n",
    "\n",
    "# Combine lowercase dict with the same dict but converted to uppercase\n",
    "conversions = lowercase | {k.upper():v.upper() for k,v in lowercase.items()}\n",
    "converted_contents = []\n",
    "\n",
    "# Loop through list, and replace k with v in the conversion dict\n",
    "for string in contents:\n",
    "    for k, v in conversions.items():\n",
    "        string = string.replace(k, v)\n",
    "    converted_contents.append(string)"
   ]
  },
  {
   "cell_type": "markdown",
   "metadata": {},
   "source": [
    "# 4. Write Output (20 pts)"
   ]
  },
  {
   "cell_type": "code",
   "execution_count": 10,
   "metadata": {},
   "outputs": [],
   "source": [
    "fluff = [\n",
    "    \"From Project Gutenberg (www.gutenberg.org)\",\n",
    "    \"Converted by: David Flowers II\\n\",\n",
    "    f\"*** START OF {title} \\n\",\n",
    "    f\"*** END OF {title} \\n\"\n",
    "]\n",
    "\n",
    "converted_filename = fname[:-4] + \"-converted.txt\"\n",
    "\n",
    "# Open file for writing\n",
    "with open (converted_filename, 'w') as out_file:\n",
    "    # Print the fluff at the beginning\n",
    "    for string in fluff[:3]:\n",
    "        print(string, file=out_file)\n",
    "\n",
    "    # Print the converted book contents\n",
    "    for content_str in converted_contents:\n",
    "        print(content_str, file=out_file)\n",
    "\n",
    "    # Print end fluff\n",
    "    print(fluff[3], file=out_file)\n",
    "\n",
    "    # Get letter counts\n",
    "    vowels, consonants = count_letters(contents)\n",
    "    post_vowels, post_consonants = count_letters(converted_contents)\n",
    "\n",
    "    # Calculate conversion\n",
    "    vowel_conversion = 1 - vowels / post_vowels\n",
    "    consonant_conversion = 1 - consonants / post_consonants\n",
    "\n",
    "    # Print the numbers and conversion\n",
    "    print(f\"Number of vowels before: {vowels}\", file=out_file)\n",
    "    print(f\"Number of vowels after: {post_vowels}\", file=out_file)\n",
    "    print(f\"Conversion Change: {\"{:+.2%}\".format(vowel_conversion)}\\n\", file=out_file)\n",
    "\n",
    "    print(f\"Number of consonants before: {consonants}\", file=out_file)\n",
    "    print(f\"Number of consonants after: {post_consonants}\", file=out_file)\n",
    "    print(f\"Conversion Change: {\"{:+.2%}\".format(consonant_conversion)} \\n\", file=out_file)    "
   ]
  }
 ],
 "metadata": {
  "kernelspec": {
   "display_name": "Python (default)",
   "language": "python",
   "name": "python3"
  },
  "language_info": {
   "codemirror_mode": {
    "name": "ipython",
    "version": 3
   },
   "file_extension": ".py",
   "mimetype": "text/x-python",
   "name": "python",
   "nbconvert_exporter": "python",
   "pygments_lexer": "ipython3",
   "version": "3.12.1"
  }
 },
 "nbformat": 4,
 "nbformat_minor": 4
}
