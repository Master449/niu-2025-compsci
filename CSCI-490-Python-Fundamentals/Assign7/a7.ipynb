{
 "cells": [
  {
   "cell_type": "markdown",
   "id": "a43c327f-2994-482a-8f46-cc217b4c20e5",
   "metadata": {},
   "source": [
    "David Flowers II \\\n",
    "Z1942130 \\\n",
    "Assignment 7 \\\n",
    "Koop FA2024"
   ]
  },
  {
   "cell_type": "markdown",
   "id": "a748df36-b16f-4f20-a6fe-639a11533486",
   "metadata": {},
   "source": [
    "# 1. Download & Extract Files"
   ]
  },
  {
   "cell_type": "code",
   "execution_count": 2,
   "id": "f516b379-7a29-44eb-9fbe-2d5426a43105",
   "metadata": {},
   "outputs": [],
   "source": [
    "import requests\n",
    "import os\n",
    "import numpy as np\n",
    "import pandas as pd\n",
    "\n",
    "from concurrent.futures import ThreadPoolExecutor\n",
    "from pathlib import Path\n",
    "from zipfile import ZipFile\n",
    "\n",
    "base_url = \"https://faculty.cs.niu.edu/~dakoop/cs503-2024fa/a7/\"\n",
    "files_to_download = [f\"unemp-{x}.zip\" for x in range(1970, 2021, 10)]\n",
    "decades = [f\"{x}\" for x in range(1970, 2021, 10)]\n",
    "\n",
    "# Helper function to download files\n",
    "def download_url(url, filename):\n",
    "\n",
    "    # If the zip file already exists, don't get it again\n",
    "    if os.path.isfile(filename):\n",
    "        return\n",
    "\n",
    "    response = requests.get(url, stream=True)\n",
    "\n",
    "    # If we don't get OK, raise exception, print status code\n",
    "    if not response.ok:\n",
    "        raise Exception(f\"File could not be downloaded: {response.status_code}\")\n",
    "        \n",
    "    with open(filename, 'wb') as f:\n",
    "        f.write(response.content)\n",
    "\n",
    "# Extraction helper function\n",
    "def extract_file(file_name):\n",
    "    with ZipFile(file, \"r\") as z:\n",
    "        z.extractall(\".\")\n",
    "\n",
    "# Loop through files to download\n",
    "for file in files_to_download:\n",
    "    download_url(base_url + file, file)\n",
    "    extract_file(file)"
   ]
  },
  {
   "cell_type": "markdown",
   "id": "9fa02591-dc0d-41f3-8ac9-665c13ef67e1",
   "metadata": {},
   "source": [
    "# 2. Find Matching Files (10 pts)"
   ]
  },
  {
   "cell_type": "code",
   "execution_count": 3,
   "id": "ce79cc91-70ae-4702-9c02-f3958de6c22b",
   "metadata": {},
   "outputs": [],
   "source": [
    "searching_ext = {\".npy\", \".csv\"}\n",
    "\n",
    "# Get all matching files\n",
    "data_files = [f for f in Path(\"data\").rglob('*') if f.suffix in searching_ext]\n",
    "\n",
    "# Separate updated and non-updated files\n",
    "update_files = [f for f in data_files if {'update', 'mod'}.intersection(f.parts)]\n",
    "regular_files = [f for f in data_files if not {'update', 'mod'}.intersection(f.parts)]\n",
    "\n",
    "# Remove regular files that have update versions\n",
    "update_names = {f.name for f in update_files}\n",
    "regular_files = [f for f in regular_files if f.name not in update_names]\n",
    "\n",
    "# Sort it just to make debugging easier later on\n",
    "complete_file_set = sorted(regular_files + update_files, key=lambda x: x.name)"
   ]
  },
  {
   "cell_type": "markdown",
   "id": "1fe7791e-8732-421e-8dfc-07fe0d8f9914",
   "metadata": {},
   "source": [
    "# 3. Structural Pattern Matching to Process a File (20 pts)"
   ]
  },
  {
   "cell_type": "code",
   "execution_count": 4,
   "id": "a720e043-faca-40a5-abf9-be8d35229731",
   "metadata": {},
   "outputs": [],
   "source": [
    "# Counties we need\n",
    "needed_counties = [\n",
    "        \"DEKALB COUNTY\", \n",
    "        \"KANE COUNTY\", \n",
    "        \"BOONE COUNTY\", \n",
    "        \"MCHENRY COUNTY\", \n",
    "        \"WINNEBAGO COUNTY\", \n",
    "        \"OGLE COUNTY\", \n",
    "        \"LEE COUNTY\", \n",
    "        \"KENDALL COUNTY\"]\n",
    "\n",
    "def process_data_file(path):\n",
    "    # Temp holder for read in data\n",
    "    temp_data = {}\n",
    "    \n",
    "    # Match filetype and update status\n",
    "    match path.parts:\n",
    "        case [_, _, (\"update\" | \"mod\"), *_, ext] if ext.endswith('.npy'):\n",
    "            temp_data =  pd.DataFrame(np.load(path))\n",
    "        case [_, _, (\"update\" | \"mod\"), *_, ext] if ext.endswith('.csv'):\n",
    "            temp_data = pd.DataFrame(pd.read_csv(path))\n",
    "        case [*_, ext] if ext.endswith('.npy'):\n",
    "            temp_data = pd.DataFrame(np.load(path))\n",
    "        case [*_, ext] if ext.endswith('.csv'):\n",
    "            temp_data = pd.DataFrame(pd.read_csv(path))\n",
    "\n",
    "    # Convert all COUNTY to upper\n",
    "    temp_data[\"COUNTY\"] = temp_data[\"COUNTY\"].str.upper()\n",
    "    \n",
    "    # Filter the columns we need\n",
    "    column_filter = temp_data[[\"COUNTY\",\"YEAR\",\"LABOR_FORCE\",\"EMPLOYED\", \"UNEMPLOYED_NUMBER\"]]\n",
    "\n",
    "    # Filter the counties we need\n",
    "    county_filter = column_filter[column_filter['COUNTY'].isin(needed_counties)]\n",
    "    \n",
    "    # Add the CALC_RATE column\n",
    "    result = county_filter.copy()\n",
    "    result[\"CALC_RATE\"] = (result[\"UNEMPLOYED_NUMBER\"] / result[\"LABOR_FORCE\"]) * 100\n",
    "\n",
    "    # Return result\n",
    "    return result"
   ]
  },
  {
   "cell_type": "markdown",
   "id": "ee0749fa-47ba-41ca-872f-21cfb7ab9d50",
   "metadata": {},
   "source": [
    "# 4. Use Threads to Process Files (30 pts)"
   ]
  },
  {
   "cell_type": "code",
   "execution_count": 11,
   "id": "00392178-634d-413c-b053-81bea296a994",
   "metadata": {
    "scrolled": true
   },
   "outputs": [
    {
     "data": {
      "text/html": [
       "<div>\n",
       "<style scoped>\n",
       "    .dataframe tbody tr th:only-of-type {\n",
       "        vertical-align: middle;\n",
       "    }\n",
       "\n",
       "    .dataframe tbody tr th {\n",
       "        vertical-align: top;\n",
       "    }\n",
       "\n",
       "    .dataframe thead th {\n",
       "        text-align: right;\n",
       "    }\n",
       "</style>\n",
       "<table border=\"1\" class=\"dataframe\">\n",
       "  <thead>\n",
       "    <tr style=\"text-align: right;\">\n",
       "      <th></th>\n",
       "      <th>COUNTY</th>\n",
       "      <th>YEAR</th>\n",
       "      <th>LABOR_FORCE</th>\n",
       "      <th>EMPLOYED</th>\n",
       "      <th>UNEMPLOYED_NUMBER</th>\n",
       "      <th>CALC_RATE</th>\n",
       "    </tr>\n",
       "  </thead>\n",
       "  <tbody>\n",
       "    <tr>\n",
       "      <th>3</th>\n",
       "      <td>BOONE COUNTY</td>\n",
       "      <td>1974</td>\n",
       "      <td>12340</td>\n",
       "      <td>11864</td>\n",
       "      <td>476</td>\n",
       "      <td>3.857374</td>\n",
       "    </tr>\n",
       "    <tr>\n",
       "      <th>18</th>\n",
       "      <td>DEKALB COUNTY</td>\n",
       "      <td>1974</td>\n",
       "      <td>32217</td>\n",
       "      <td>30920</td>\n",
       "      <td>1297</td>\n",
       "      <td>4.025825</td>\n",
       "    </tr>\n",
       "    <tr>\n",
       "      <th>44</th>\n",
       "      <td>KANE COUNTY</td>\n",
       "      <td>1974</td>\n",
       "      <td>116543</td>\n",
       "      <td>112739</td>\n",
       "      <td>3804</td>\n",
       "      <td>3.264031</td>\n",
       "    </tr>\n",
       "    <tr>\n",
       "      <th>46</th>\n",
       "      <td>KENDALL COUNTY</td>\n",
       "      <td>1974</td>\n",
       "      <td>8802</td>\n",
       "      <td>8614</td>\n",
       "      <td>187</td>\n",
       "      <td>2.124517</td>\n",
       "    </tr>\n",
       "    <tr>\n",
       "      <th>51</th>\n",
       "      <td>LEE COUNTY</td>\n",
       "      <td>1974</td>\n",
       "      <td>11436</td>\n",
       "      <td>10855</td>\n",
       "      <td>581</td>\n",
       "      <td>5.080448</td>\n",
       "    </tr>\n",
       "    <tr>\n",
       "      <th>55</th>\n",
       "      <td>MCHENRY COUNTY</td>\n",
       "      <td>1974</td>\n",
       "      <td>50277</td>\n",
       "      <td>48557</td>\n",
       "      <td>1719</td>\n",
       "      <td>3.419058</td>\n",
       "    </tr>\n",
       "    <tr>\n",
       "      <th>70</th>\n",
       "      <td>OGLE COUNTY</td>\n",
       "      <td>1974</td>\n",
       "      <td>14047</td>\n",
       "      <td>13656</td>\n",
       "      <td>390</td>\n",
       "      <td>2.776394</td>\n",
       "    </tr>\n",
       "    <tr>\n",
       "      <th>100</th>\n",
       "      <td>WINNEBAGO COUNTY</td>\n",
       "      <td>1974</td>\n",
       "      <td>116416</td>\n",
       "      <td>110901</td>\n",
       "      <td>5514</td>\n",
       "      <td>4.736462</td>\n",
       "    </tr>\n",
       "  </tbody>\n",
       "</table>\n",
       "</div>"
      ],
      "text/plain": [
       "               COUNTY  YEAR  LABOR_FORCE  EMPLOYED  UNEMPLOYED_NUMBER  \\\n",
       "3        BOONE COUNTY  1974        12340     11864                476   \n",
       "18      DEKALB COUNTY  1974        32217     30920               1297   \n",
       "44        KANE COUNTY  1974       116543    112739               3804   \n",
       "46     KENDALL COUNTY  1974         8802      8614                187   \n",
       "51         LEE COUNTY  1974        11436     10855                581   \n",
       "55     MCHENRY COUNTY  1974        50277     48557               1719   \n",
       "70        OGLE COUNTY  1974        14047     13656                390   \n",
       "100  WINNEBAGO COUNTY  1974       116416    110901               5514   \n",
       "\n",
       "     CALC_RATE  \n",
       "3     3.857374  \n",
       "18    4.025825  \n",
       "44    3.264031  \n",
       "46    2.124517  \n",
       "51    5.080448  \n",
       "55    3.419058  \n",
       "70    2.776394  \n",
       "100   4.736462  "
      ]
     },
     "metadata": {},
     "output_type": "display_data"
    }
   ],
   "source": [
    "with ThreadPoolExecutor() as executor:\n",
    "    all_dataframes = list(executor.map(process_data_file, complete_file_set))\n",
    "\n",
    "display(all_dataframes[0])\n",
    "concatenated_data = pd.concat(all_dataframes)\n",
    "\n",
    "for county in needed_counties:\n",
    "    county_data = concatenated_data[concatenated_data[\"COUNTY\"] == county].copy()\n",
    "    output_file_name = f\"{county.replace(\" COUNTY\", \"\").strip()}.csv.gz\"\n",
    "    county_data.to_csv(output_file_name, compression=\"gzip\")"
   ]
  },
  {
   "cell_type": "markdown",
   "id": "61c66bfb-eaf2-4b90-a26c-822369eaebd9",
   "metadata": {},
   "source": [
    "# Check Results"
   ]
  },
  {
   "cell_type": "code",
   "execution_count": 6,
   "id": "323837b5-367c-4d57-b822-5fe9def126f4",
   "metadata": {},
   "outputs": [
    {
     "name": "stdout",
     "output_type": "stream",
     "text": [
      "BOONE 8.054294578004583\n",
      "DEKALB 5.721435538644467\n",
      "KANE 6.40548752171531\n",
      "KENDALL 5.457945584277057\n",
      "LEE 6.260036908826006\n",
      "MCHENRY 5.87830091101972\n",
      "OGLE 6.60481888833855\n",
      "WINNEBAGO 7.695749477329302\n"
     ]
    }
   ],
   "source": [
    "counties_no_suffix = ['DEKALB', 'KANE', 'BOONE', 'MCHENRY', 'WINNEBAGO', 'OGLE', 'LEE', 'KENDALL'] \n",
    "for c in sorted(counties_no_suffix):\n",
    "    cdf = pd.read_csv(f'{c}.csv.gz')\n",
    "    print(c, cdf[\"CALC_RATE\"].mean())"
   ]
  },
  {
   "cell_type": "code",
   "execution_count": null,
   "id": "c6faf6ef-2e41-47e6-8b61-b5d285dc34f6",
   "metadata": {},
   "outputs": [],
   "source": []
  }
 ],
 "metadata": {
  "kernelspec": {
   "display_name": "Python (default)",
   "language": "python",
   "name": "python3"
  },
  "language_info": {
   "codemirror_mode": {
    "name": "ipython",
    "version": 3
   },
   "file_extension": ".py",
   "mimetype": "text/x-python",
   "name": "python",
   "nbconvert_exporter": "python",
   "pygments_lexer": "ipython3",
   "version": "3.12.2"
  }
 },
 "nbformat": 4,
 "nbformat_minor": 5
}
