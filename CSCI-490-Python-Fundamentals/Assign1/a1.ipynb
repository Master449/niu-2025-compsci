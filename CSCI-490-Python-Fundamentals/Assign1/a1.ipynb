{
 "cells": [
  {
   "cell_type": "markdown",
   "id": "cfa7ffe7-714a-4f82-839a-4bf66451bd66",
   "metadata": {},
   "source": [
    "David Flowers II \\\n",
    "Z1942130 \\\n",
    "Assignment 1 \\\n",
    "Koop FA24"
   ]
  },
  {
   "cell_type": "markdown",
   "id": "fc834387-6211-42a6-86f4-2ee9a6926e22",
   "metadata": {},
   "source": [
    "## 1"
   ]
  },
  {
   "cell_type": "code",
   "execution_count": 16,
   "id": "d482be06-7f3e-4683-9fbd-441c8f3b101b",
   "metadata": {},
   "outputs": [
    {
     "name": "stdout",
     "output_type": "stream",
     "text": [
      "Hello,\n",
      "Dekalb.\n"
     ]
    }
   ],
   "source": [
    "print(\"Hello,\\nDekalb.\") # Two prints would work as well"
   ]
  },
  {
   "cell_type": "markdown",
   "id": "42b326c7-b874-4350-8700-4cffbe69ee0f",
   "metadata": {},
   "source": [
    "## 2"
   ]
  },
  {
   "cell_type": "code",
   "execution_count": 17,
   "id": "e6ca9003-2823-4830-b907-41dcec5f7075",
   "metadata": {
    "scrolled": true
   },
   "outputs": [
    {
     "name": "stdout",
     "output_type": "stream",
     "text": [
      "Hello, David\n"
     ]
    }
   ],
   "source": [
    "name = \"David\"\n",
    "print(f\"Hello, {name}\")"
   ]
  },
  {
   "cell_type": "markdown",
   "id": "1fc32519-1252-4a0b-ab55-03c7f3f7728d",
   "metadata": {},
   "source": [
    "## 3"
   ]
  },
  {
   "cell_type": "code",
   "execution_count": 18,
   "id": "d1152235-278f-4447-ad6a-b4087a0d89b0",
   "metadata": {},
   "outputs": [],
   "source": [
    "C = 1000\n",
    "i = .05\n",
    "n = 5"
   ]
  },
  {
   "cell_type": "code",
   "execution_count": 19,
   "id": "472459c0-4c29-4438-9366-d69c46e39101",
   "metadata": {},
   "outputs": [],
   "source": [
    "# This part is my implementation of the Hints section\n",
    "def ordinaryAnnuity(c, i, top):\n",
    "    return c*((top)/(i))\n",
    "\n",
    "def annuityDue(c, i, top):\n",
    "    return c*((top)/(i))*(1+i)"
   ]
  },
  {
   "cell_type": "markdown",
   "id": "30860c15-71e5-40f1-90e4-dba33e5c7350",
   "metadata": {},
   "source": [
    "## 3a"
   ]
  },
  {
   "cell_type": "code",
   "execution_count": 20,
   "id": "8efdeb65-ee11-461a-8a41-beb293b71c8e",
   "metadata": {},
   "outputs": [
    {
     "name": "stdout",
     "output_type": "stream",
     "text": [
      "5525.631250000007\n"
     ]
    }
   ],
   "source": [
    "fv_ordinary = ordinaryAnnuity(C, i, (((1+i)**n)-1))\n",
    "print(fv_ordinary)"
   ]
  },
  {
   "cell_type": "markdown",
   "id": "fc6469f6-d2ae-4eee-a95c-46fec8b74562",
   "metadata": {},
   "source": [
    "## 3b"
   ]
  },
  {
   "cell_type": "code",
   "execution_count": 21,
   "id": "b5c97b00-73eb-4192-995e-fb6514170080",
   "metadata": {},
   "outputs": [
    {
     "name": "stdout",
     "output_type": "stream",
     "text": [
      "4329.476670630823\n"
     ]
    }
   ],
   "source": [
    "pv_ordinary = ordinaryAnnuity(C, i, (1-((1+i)**-n)))\n",
    "print(pv_ordinary)"
   ]
  },
  {
   "cell_type": "markdown",
   "id": "9ee951de-ffa3-42e6-82b4-adf102005225",
   "metadata": {},
   "source": [
    "## 3c"
   ]
  },
  {
   "cell_type": "code",
   "execution_count": 22,
   "id": "9ffe023e-bf1f-424f-ae13-7198fd2cede7",
   "metadata": {},
   "outputs": [
    {
     "name": "stdout",
     "output_type": "stream",
     "text": [
      "5801.912812500007\n"
     ]
    }
   ],
   "source": [
    "fv_due = annuityDue(C, i, (((1+i)**n)-1))\n",
    "print(fv_due)"
   ]
  },
  {
   "cell_type": "markdown",
   "id": "df08bef1-185f-4478-90a9-457e6af1356e",
   "metadata": {},
   "source": [
    "## 3d"
   ]
  },
  {
   "cell_type": "code",
   "execution_count": 23,
   "id": "69e052d5-4989-4782-9e2c-e5237ed8a1e8",
   "metadata": {},
   "outputs": [
    {
     "name": "stdout",
     "output_type": "stream",
     "text": [
      "4545.950504162364\n"
     ]
    }
   ],
   "source": [
    "pv_due = annuityDue(C, i, (1-((1+i)**-n)))\n",
    "print(pv_due)"
   ]
  }
 ],
 "metadata": {
  "kernelspec": {
   "display_name": "Python (default)",
   "language": "python",
   "name": "python3"
  },
  "language_info": {
   "codemirror_mode": {
    "name": "ipython",
    "version": 3
   },
   "file_extension": ".py",
   "mimetype": "text/x-python",
   "name": "python",
   "nbconvert_exporter": "python",
   "pygments_lexer": "ipython3",
   "version": "3.12.1"
  }
 },
 "nbformat": 4,
 "nbformat_minor": 5
}
